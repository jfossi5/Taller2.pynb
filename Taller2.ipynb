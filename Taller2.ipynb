{
 "cells": [
  {
   "cell_type": "code",
   "execution_count": 3,
   "metadata": {},
   "outputs": [
    {
     "name": "stdout",
     "output_type": "stream",
     "text": [
      "Terminaste una relación.\n",
      "Buscando ayuda con amigos o seres cercanos.\n",
      "Buscando ayuda profesional.\n",
      "Con ayuda profesional, sigo con mi vida normal.\n"
     ]
    }
   ],
   "source": [
    "# Inicio del proceso\n",
    "def proceso_fin_relacion():\n",
    "    # Pregunta inicial: Terminas una relación\n",
    "    print(\"Terminaste una relación.\")\n",
    "    \n",
    "    # Primer paso: ¿Estoy triste?\n",
    "    triste = input(\"¿Estás triste? (si/no): \").lower()\n",
    "    \n",
    "    if triste == 'no':\n",
    "        print(\"Sigo con mi vida normal.\")\n",
    "        return\n",
    "    else:\n",
    "        # Si estás triste, entonces: ¿Puedo recuperarme solo?\n",
    "        recuperarse_solo = input(\"¿Puedes recuperarte solo? (si/no): \").lower()\n",
    "        \n",
    "        if recuperarse_solo == 'si':\n",
    "            print(\"Sigo con mi vida normal.\")\n",
    "            return\n",
    "        else:\n",
    "            # Si no puedes recuperarte solo, buscas ayuda con amigos\n",
    "            print(\"Buscando ayuda con amigos o seres cercanos.\")\n",
    "            \n",
    "            # Después de buscar ayuda: ¿Me siento mejor?\n",
    "            mejor = input(\"¿Te sientes mejor? (si/no): \").lower()\n",
    "            \n",
    "            if mejor == 'si':\n",
    "                print(\"Sigo con mi vida normal.\")\n",
    "                return\n",
    "            else:\n",
    "                # Si no te sientes mejor, buscas ayuda profesional\n",
    "                print(\"Buscando ayuda profesional.\")\n",
    "                \n",
    "                # Suponiendo que después de ayuda profesional te sientas mejor\n",
    "                print(\"Con ayuda profesional, sigo con mi vida normal.\")\n",
    "\n",
    "# Ejecutar el proceso\n",
    "proceso_fin_relacion()"
   ]
  }
 ],
 "metadata": {
  "kernelspec": {
   "display_name": "Python 3",
   "language": "python",
   "name": "python3"
  },
  "language_info": {
   "codemirror_mode": {
    "name": "ipython",
    "version": 3
   },
   "file_extension": ".py",
   "mimetype": "text/x-python",
   "name": "python",
   "nbconvert_exporter": "python",
   "pygments_lexer": "ipython3",
   "version": "3.12.2"
  }
 },
 "nbformat": 4,
 "nbformat_minor": 2
}
